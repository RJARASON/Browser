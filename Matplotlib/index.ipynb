{
 "cells": [
  {
   "cell_type": "code",
   "execution_count": null,
   "metadata": {},
   "outputs": [],
   "source": [
    "import matplotlib.pyplot as plt\n",
    "\n",
    "Activities=['School','Study','Play','Sleep','Others']\n",
    "Time_spent=[6,4,1.5,8,4.5]\n",
    "color=['c','g','y','m','hotpink','#32a8a8']\n",
    "\n",
    "fig,axs=plt.subplots(nrows=2,ncols=2,figsize=(10,8))\n",
    "\n",
    "axs[0,0].plot(Activities,Time_spent)\n",
    "axs[0,0].set_title('Subplot 1 line graph')\n",
    "\n",
    "axs[0,1].scatter(Activities,Time_spent)\n",
    "axs[0,1].set_title('Subplot 2 scatter graph')\n",
    "\n",
    "axs[1,0].bar(Activities,Time_spent)\n",
    "axs[1,0].set_title('Subplot 3 bar graph')\n",
    "\n",
    "axs[1,1].pie(Time_spent,labels=Activities,colors=colors,\n",
    "             startangle=90,\n",
    "             explode=(0,0.1,0.5,0.25,0.5),\n",
    "             autopct='%1.1f%%')\n",
    "axs[1,1].set_title('Subplot 4 pie chart')\n",
    "\n",
    "plt.tight_layout()\n",
    "\n",
    "plt.show()\n"
   ]
  }
 ],
 "metadata": {
  "kernelspec": {
   "display_name": "Python 3",
   "language": "python",
   "name": "python3"
  },
  "language_info": {
   "name": "python",
   "version": "3.12.4"
  }
 },
 "nbformat": 4,
 "nbformat_minor": 2
}
